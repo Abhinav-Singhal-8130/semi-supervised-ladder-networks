{
 "cells": [
  {
   "cell_type": "code",
   "execution_count": 5,
   "metadata": {},
   "outputs": [
    {
     "name": "stdout",
     "output_type": "stream",
     "text": [
      "(60000, 784)\n"
     ]
    }
   ],
   "source": [
    "from __future__ import print_function\n",
    "\n",
    "from keras.datasets import mnist\n",
    "import keras\n",
    "import random\n",
    "from sklearn.metrics import accuracy_score\n",
    "import numpy as np\n",
    "\n",
    "from ladder_net import get_ladder_network_fc\n",
    "\n",
    "# get the dataset\n",
    "inp_size = 28*28 # size of mnist dataset \n",
    "n_classes = 10\n",
    "(x_train, y_train), (x_test, y_test) = mnist.load_data()\n",
    "\n",
    "x_train = x_train.reshape(60000, inp_size).astype('float32')/255\n",
    "x_test  = x_test.reshape(10000,  inp_size).astype('float32')/255\n",
    "\n",
    "y_train = keras.utils.to_categorical(y_train, n_classes)\n",
    "y_test  = keras.utils.to_categorical(y_test,  n_classes)\n",
    "\n",
    "# only select 100 training samples \n",
    "idxs_annot = range(x_train.shape[0])\n",
    "random.seed(0)\n",
    "idxs_annot = np.random.choice(x_train.shape[0], 100)\n",
    "\n",
    "x_train_unlabeled = x_train\n",
    "x_train_labeled   = x_train[idxs_annot]\n",
    "y_train_labeled   = y_train[idxs_annot]\n",
    "\n",
    "n_rep = x_train_unlabeled.shape[0] // x_train_labeled.shape[0]\n",
    "x_train_labeled_rep = np.concatenate([x_train_labeled]*n_rep)\n",
    "y_train_labeled_rep = np.concatenate([y_train_labeled]*n_rep)\n",
    "\n",
    "print (x_train_unlabeled.shape)\n",
    "# initialize the model \n",
    "model = get_ladder_network_fc(layer_sizes=[inp_size, 1000, 500, 250, 250, 250, n_classes])\n",
    "\n",
    "# train the model for 100 epochs\n",
    "for _ in range(0):\n",
    "    model.fit([x_train_labeled_rep, x_train_unlabeled], y_trainbatchNum_labeled_rep, epochs=1)\n",
    "    y_test_pr = model.test_model.predict(x_test, batch_size=100)\n",
    "    print(\"Test accuracy : %f\" % accuracy_score(y_test.argmax(-1), y_test_pr.argmax(-1)))"
   ]
  },
  {
   "cell_type": "code",
   "execution_count": 3,
   "metadata": {},
   "outputs": [
    {
     "name": "stdout",
     "output_type": "stream",
     "text": [
      "<class 'tensorflow.python.keras.engine.functional.Functional'>\n"
     ]
    }
   ],
   "source": [
    "print (type (model))"
   ]
  }
 ],
 "metadata": {
  "interpreter": {
   "hash": "73bd737fbce9fefea06c333d19b0e4dd23dd32e9701a28ba35ccf8a2425e105d"
  },
  "kernelspec": {
   "display_name": "Python 3.9.5 64-bit ('my_env': conda)",
   "name": "python3"
  },
  "language_info": {
   "codemirror_mode": {
    "name": "ipython",
    "version": 3
   },
   "file_extension": ".py",
   "mimetype": "text/x-python",
   "name": "python",
   "nbconvert_exporter": "python",
   "pygments_lexer": "ipython3",
   "version": "3.9.5"
  },
  "orig_nbformat": 4
 },
 "nbformat": 4,
 "nbformat_minor": 2
}